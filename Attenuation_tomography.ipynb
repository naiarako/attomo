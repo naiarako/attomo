{
 "cells": [
  {
   "cell_type": "markdown",
   "id": "6efa4f31",
   "metadata": {},
   "source": [
    "## Pulse-echo ultrasound attenuation tomography\n",
    "\n",
    "This notebook shows how to image the spatial distribution of tissue attenuation with the pulse-echo ultrasound attenuation tomography technique presented in [tba]. Only linear probes are supported in this version. \n",
    "\n",
    "Note: We do not perform ensemble averaging over different realizations to make this notebook easy to follow and understand. However, this averaging can be easily included following the approach in 'Compute_calibration_data.ipynb'.\n",
    "\n",
    "Author: Naiara Korta Martiartu (naiara.korta@unibe.ch)\\\n",
    "Date: June 2023"
   ]
  },
  {
   "cell_type": "code",
   "execution_count": null,
   "id": "c30fb0ac",
   "metadata": {},
   "outputs": [],
   "source": [
    "# Import useful packages\n",
    "\n",
    "%load_ext autoreload\n",
    "%autoreload 2\n",
    "\n",
    "import numpy as np\n",
    "import matplotlib.pyplot as plt\n",
    "import matplotlib\n",
    "import pickle\n",
    "from tools import Bmode, ATTomo\n",
    "\n",
    "matplotlib.rcParams.update({'font.size': 18})"
   ]
  },
  {
   "cell_type": "markdown",
   "id": "b43d3ba3",
   "metadata": {},
   "source": [
    "#### Initialize Bmode object"
   ]
  },
  {
   "cell_type": "code",
   "execution_count": null,
   "id": "af3096aa",
   "metadata": {},
   "outputs": [],
   "source": [
    "rec = Bmode('kWave')"
   ]
  },
  {
   "cell_type": "markdown",
   "id": "734bdc35",
   "metadata": {},
   "source": [
    "#### Load data and acquisition parameters"
   ]
  },
  {
   "cell_type": "code",
   "execution_count": null,
   "id": "f9ce067d",
   "metadata": {},
   "outputs": [],
   "source": [
    "# Define path to the folder and the filename containing data\n",
    "folder_path = './data/'\n",
    "data_filename   = 'acquisition_1.mat'\n",
    "\n",
    "# load data\n",
    "rec.load_data(folder_path, data_filename, use_filter=True) "
   ]
  },
  {
   "cell_type": "markdown",
   "id": "96a4e182",
   "metadata": {},
   "source": [
    "#### Load calibration data"
   ]
  },
  {
   "cell_type": "code",
   "execution_count": null,
   "id": "c55ef46b",
   "metadata": {},
   "outputs": [],
   "source": [
    "folder = './data/'\n",
    "filename   = 'calibration.pkl'\n",
    "\n",
    "with open(folder + filename,'rb') as f:  \n",
    "    calibration = pickle.load(f)"
   ]
  },
  {
   "cell_type": "markdown",
   "id": "4c3aa4fb",
   "metadata": {},
   "source": [
    "### Step 1: Delay and sum beamforming "
   ]
  },
  {
   "cell_type": "code",
   "execution_count": null,
   "id": "bc6d867f",
   "metadata": {},
   "outputs": [],
   "source": [
    "rec.acq_delay = rec.acq_delay + 8.791438837681621e-07 # fix acquisition delay so that t=0 is at max. of the pulse\n",
    "\n",
    "rec.das(c = 1480, rec_range = 40e-3, gpu=True)"
   ]
  },
  {
   "cell_type": "markdown",
   "id": "791bab79",
   "metadata": {},
   "source": [
    "#### Plot compounded B-mode image"
   ]
  },
  {
   "cell_type": "code",
   "execution_count": null,
   "id": "75155e3a",
   "metadata": {},
   "outputs": [],
   "source": [
    "rec.plot_bmode(option_rec=0, dym_range=60, normlevel=-30, option_comp=2, savefig=False)"
   ]
  },
  {
   "cell_type": "markdown",
   "id": "e3121739",
   "metadata": {},
   "source": [
    "### Step 2: Synthetic focusing in emission"
   ]
  },
  {
   "cell_type": "code",
   "execution_count": null,
   "id": "6696b800",
   "metadata": {},
   "outputs": [],
   "source": [
    "# Define synthetic aperture angles\n",
    "start_saangle = -25  # [deg]\n",
    "end_saangle = 25\n",
    "delta_saangle = 2.5\n",
    "\n",
    "sa_angles = np.arange(start_saangle, end_saangle + delta_saangle, delta_saangle) * np.pi / 180  # [rad]\n",
    "\n",
    "\n",
    "# Define standard deviation for Gaussian weighting of images \n",
    "sa_radius = 3\n",
    "sa_sigma=sa_radius*np.pi/180/np.sqrt(2)  # [rad]\n",
    "\n",
    "\n",
    "# Coherent compounding to reduce clutter \n",
    "rec.coherent_compounding(sa_angles=sa_angles, sa_sigma=sa_sigma)"
   ]
  },
  {
   "cell_type": "markdown",
   "id": "43a6e546",
   "metadata": {},
   "source": [
    "### Step 3: Compute normalized cross-correlation log-amplitude measurements"
   ]
  },
  {
   "cell_type": "markdown",
   "id": "7a7bf4ef",
   "metadata": {},
   "source": [
    "#### Initialize ATTomo object"
   ]
  },
  {
   "cell_type": "code",
   "execution_count": null,
   "id": "fcf48316",
   "metadata": {},
   "outputs": [],
   "source": [
    "tomo = ATTomo(rec, spacing=[0.5e-3, 0.5e-3], gpu=True, range_rec=37.5e-3)"
   ]
  },
  {
   "cell_type": "markdown",
   "id": "1537c4fb",
   "metadata": {},
   "source": [
    "#### Measure data"
   ]
  },
  {
   "cell_type": "code",
   "execution_count": null,
   "id": "79966bf0",
   "metadata": {},
   "outputs": [],
   "source": [
    "tomo.logamp_measurements(kernel_size=[1e-3, 1e-3])"
   ]
  },
  {
   "cell_type": "markdown",
   "id": "78cd231c",
   "metadata": {},
   "source": [
    "#### Define relevant angles for tomography, add data and interpolate to tomography grid "
   ]
  },
  {
   "cell_type": "code",
   "execution_count": null,
   "id": "0d7a924e",
   "metadata": {},
   "outputs": [],
   "source": [
    "start_angle = -25  # [deg]\n",
    "end_angle = 25\n",
    "delta_angle = 2.5\n",
    "\n",
    "tomo_angles = np.arange(start_angle,end_angle + delta_angle,delta_angle)*np.pi/180  # [deg]\n",
    "\n",
    "\n",
    "tomo.add_data(tomo_angles)\n",
    "\n",
    "# save for later\n",
    "tmp = tomo.tomo_logamp_map "
   ]
  },
  {
   "cell_type": "markdown",
   "id": "2d195ffd",
   "metadata": {},
   "source": [
    "#### Calibrate data"
   ]
  },
  {
   "cell_type": "code",
   "execution_count": null,
   "id": "609b3859",
   "metadata": {},
   "outputs": [],
   "source": [
    "tomo.tomo_logamp_map = tmp - calibration"
   ]
  },
  {
   "cell_type": "markdown",
   "id": "4801be77",
   "metadata": {},
   "source": [
    "#### Plot data"
   ]
  },
  {
   "cell_type": "code",
   "execution_count": null,
   "id": "a28aa76f",
   "metadata": {},
   "outputs": [],
   "source": [
    "fig = plt.figure(figsize=(15,12))\n",
    "\n",
    "# Define extent of imaging domain\n",
    "extent = 100 * np.min(tomo.tomo_x), 100 * np.max(tomo.tomo_x), 100 * np.max(tomo.tomo_z), 100 * np.min(tomo.tomo_z)\n",
    "\n",
    "        \n",
    "for i in range(tomo.tomo_nangles - 1):\n",
    "    \n",
    "    ax = fig.add_subplot(4, 5, i+1)    \n",
    "    \n",
    "    im = ax.imshow(tomo.tomo_logamp_map[:,:,i], aspect = 'equal', extent = extent,\n",
    "                     vmin=-0.2, vmax=0.2, cmap='RdBu')\n",
    "    \n",
    "    \n",
    "    \n",
    "fig.colorbar(im)"
   ]
  },
  {
   "cell_type": "markdown",
   "id": "da7e53ae",
   "metadata": {},
   "source": [
    "### Step 4: Reconstruct spatial distribution of tissue attenuation"
   ]
  },
  {
   "cell_type": "markdown",
   "id": "08e5f2b6",
   "metadata": {},
   "source": [
    "#### Compute elements of the forward operator"
   ]
  },
  {
   "cell_type": "code",
   "execution_count": null,
   "id": "141cd1ad",
   "metadata": {},
   "outputs": [],
   "source": [
    "tomo.compute_forward_op()"
   ]
  },
  {
   "cell_type": "markdown",
   "id": "98f6b065",
   "metadata": {},
   "source": [
    "#### Plot ray density"
   ]
  },
  {
   "cell_type": "code",
   "execution_count": null,
   "id": "14f2bb50",
   "metadata": {},
   "outputs": [],
   "source": [
    "tomo.plot_ray_density()"
   ]
  },
  {
   "cell_type": "markdown",
   "id": "174cd94a",
   "metadata": {},
   "source": [
    "#### Compute L-curve to optimize regularization parameter values"
   ]
  },
  {
   "cell_type": "code",
   "execution_count": null,
   "id": "73737224",
   "metadata": {},
   "outputs": [],
   "source": [
    "tomo.plot_lcurve(order=1)"
   ]
  },
  {
   "cell_type": "markdown",
   "id": "d1125e10",
   "metadata": {},
   "source": [
    "#### Reconstruct attenuation images"
   ]
  },
  {
   "cell_type": "code",
   "execution_count": null,
   "id": "c856fa5e",
   "metadata": {},
   "outputs": [],
   "source": [
    "reg_param = 5e-6  # regularization parameter value \n",
    "order = 1  # order Tikhonov regularization\n",
    "\n",
    "\n",
    "## Run inversion and compute misfit reduction\n",
    "tomo.inversion(reg_parameter=[reg_param, reg_param], order=order, att_exponent=1.9)  \n",
    "tomo.misfit_reduction() "
   ]
  },
  {
   "cell_type": "markdown",
   "id": "1f265b1a",
   "metadata": {},
   "source": [
    "#### Plot attenuation image"
   ]
  },
  {
   "cell_type": "code",
   "execution_count": null,
   "id": "e3b46980",
   "metadata": {},
   "outputs": [],
   "source": [
    "plt.imshow(np.reshape(tomo.model_rec, (tomo.nz, tomo.nx)), aspect = 'equal', extent = extent,\n",
    "           vmin=0, vmax=120, cmap='viridis')\n",
    "\n",
    "plt.colorbar(ticks=[0, 120]).set_label('Attenuation \\n (Np/m)')\n",
    "plt.xlabel('x (cm)')\n",
    "plt.ylabel('z (cm)')"
   ]
  },
  {
   "cell_type": "markdown",
   "id": "4f8ce551",
   "metadata": {},
   "source": [
    "#### Plot diagonal posterior covariance"
   ]
  },
  {
   "cell_type": "code",
   "execution_count": null,
   "id": "07e855d2",
   "metadata": {},
   "outputs": [],
   "source": [
    "plt.imshow(np.reshape(np.diag(tomo.post)/max(np.diag(tomo.post)), (tomo.nz, tomo.nx)), \n",
    "           aspect = 'equal', extent = extent, vmin=0, vmax=0.5, cmap='plasma')\n",
    "\n",
    "plt.colorbar(ticks=[0, 0.5]).set_label('Norm. variance')\n",
    "plt.xlabel('x (cm)')\n",
    "plt.ylabel('z (cm)')"
   ]
  },
  {
   "cell_type": "markdown",
   "id": "2e5d33cc",
   "metadata": {},
   "source": [
    "### Step 5: Check data misfit"
   ]
  },
  {
   "cell_type": "markdown",
   "id": "eaee7820",
   "metadata": {},
   "source": [
    "#### Compute predicted data from reconstructed model"
   ]
  },
  {
   "cell_type": "code",
   "execution_count": null,
   "id": "c2cc26fa",
   "metadata": {},
   "outputs": [],
   "source": [
    "pred_data=tomo.compute_obs_data(tomo.model_rec)"
   ]
  },
  {
   "cell_type": "markdown",
   "id": "b06beaae",
   "metadata": {},
   "source": [
    "#### Plot discrepancies between observed and predicted data"
   ]
  },
  {
   "cell_type": "code",
   "execution_count": null,
   "id": "3dd686d6",
   "metadata": {},
   "outputs": [],
   "source": [
    "fig = plt.figure(figsize=(15,12))\n",
    "        \n",
    "for i in range(tomo.tomo_nangles - 1):\n",
    "    \n",
    "    ax = fig.add_subplot(4, 5, i+1) \n",
    "    \n",
    "    # note: obs_data is -tomo.tomo_logamp_map (with negative sign) \n",
    "    im = ax.imshow(-tomo.tomo_logamp_map[:,:,i] - pred_data[:,:,i], aspect = 'equal', extent = extent,\n",
    "                     vmin=-0.2, vmax=0.2, cmap='RdBu')\n",
    "    \n",
    "    \n",
    "    \n",
    "fig.colorbar(im)"
   ]
  }
 ],
 "metadata": {
  "kernelspec": {
   "display_name": "Python 3 (ipykernel)",
   "language": "python",
   "name": "python3"
  },
  "language_info": {
   "codemirror_mode": {
    "name": "ipython",
    "version": 3
   },
   "file_extension": ".py",
   "mimetype": "text/x-python",
   "name": "python",
   "nbconvert_exporter": "python",
   "pygments_lexer": "ipython3",
   "version": "3.7.10"
  }
 },
 "nbformat": 4,
 "nbformat_minor": 5
}
