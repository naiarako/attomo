{
 "cells": [
  {
   "cell_type": "markdown",
   "id": "5f25627b",
   "metadata": {},
   "source": [
    "## Calibration data for pulse-echo ultrasound attenuation tomography\n",
    "\n",
    "This notebook shows how to compute the calibration data for the pulse-echo ultrasound attenuation tomography technique presented in [tba]. Only linear probes are supported in this version.\n",
    "\n",
    "Author: Naiara Korta Martiartu (naiara.korta@unibe.ch)\\\n",
    "Date: June 2023"
   ]
  },
  {
   "cell_type": "code",
   "execution_count": null,
   "id": "b6f5d81c",
   "metadata": {},
   "outputs": [],
   "source": [
    "# Import useful packages\n",
    "\n",
    "%load_ext autoreload\n",
    "%autoreload 2\n",
    "\n",
    "import numpy as np\n",
    "import matplotlib.pyplot as plt\n",
    "import matplotlib\n",
    "import pickle\n",
    "from attomo import Bmode, ATTomo\n",
    "\n",
    "matplotlib.rcParams.update({'font.size': 18})"
   ]
  },
  {
   "cell_type": "markdown",
   "id": "e5da3c01",
   "metadata": {},
   "source": [
    "#### Loop over different realizations of acquired ultrasound signals in reference phantom"
   ]
  },
  {
   "cell_type": "code",
   "execution_count": null,
   "id": "37208dd2",
   "metadata": {
    "scrolled": false
   },
   "outputs": [],
   "source": [
    "num_real = 5  # number of realizations\n",
    "\n",
    "# folder containing calibration data\n",
    "folder_path = './data/'\n",
    "\n",
    "# shared term in filenames\n",
    "filename_root = 'calibration_acquisition_'\n",
    "\n",
    "for i in range(0,num_real):    \n",
    "    \n",
    "    print(50 * '-')\n",
    "    print(f'Realization #{i + 1}')\n",
    "    print(50 * '-')\n",
    "    \n",
    "    ### Initialize Bmode object    \n",
    "    rec = Bmode('kWave')\n",
    "    \n",
    "    \n",
    "    ### Load data\n",
    "    rec.load_data(folder_path, filename_root + f'{i + 1}.mat', use_filter=True) \n",
    "    \n",
    "    \n",
    "    ### STEP 1: Delay-and-sum beamforming\n",
    "    rec.acq_delay = rec.acq_delay + 8.791438837681621e-07 # fix acquisition delay \n",
    "    rec.das(c = 1480, rec_range = 40e-3, gpu=True)\n",
    "    \n",
    "    \n",
    "    ### STEP 2: Synthetic focusing\n",
    "    \n",
    "    # Define synthetic aperture angles\n",
    "    start_saangle = -25  # [deg]\n",
    "    end_saangle = 25\n",
    "    delta_saangle = 2.5\n",
    "\n",
    "    sa_angles = np.arange(start_saangle, end_saangle + delta_saangle, delta_saangle) * np.pi / 180  # [rad]\n",
    "\n",
    "    # Define standard deviation for Gaussian weighting of images \n",
    "    sa_radius = 3\n",
    "    sa_sigma=sa_radius*np.pi/180/np.sqrt(2)  # [rad]\n",
    "\n",
    "    # Coherent compounding to reduce clutter \n",
    "    rec.coherent_compounding(sa_angles=sa_angles, sa_sigma=sa_sigma)\n",
    "    \n",
    "    \n",
    "    ### STEP 3: Compute cross(auto)-correlations \n",
    "    # Initialize ATTomo object\n",
    "    tomo = ATTomo(rec, spacing=[0.5e-3, 0.5e-3], gpu=True, range_rec=37.5e-3)\n",
    "    \n",
    "    # Measurments\n",
    "    tomo.logamp_measurements(kernel_size=[1e-3, 1e-3])\n",
    "    \n",
    "    \n",
    "    ### STEP 4: ensemble-average measurements\n",
    "    if i==0:\n",
    "        cc = tomo.ccs_map\n",
    "        auto = tomo.auto_map\n",
    "        auto2 = tomo.auto2_map\n",
    "    else:\n",
    "        cc += tomo.ccs_map  \n",
    "        auto += tomo.auto_map\n",
    "        auto2 += tomo.auto2_map\n",
    "        \n",
    "        \n",
    "### STEP 5: Compute normalized cross-correlelation log-amplitudes    \n",
    "tomo.amp_map = 0.5 * (np.log(np.abs(cc) / np.abs(auto), where=np.abs(cc) / np.abs(auto) > 0) -\n",
    "                                  np.log(np.abs(cc) / np.abs(auto2), where=np.abs(cc) / np.abs(auto2) > 0))"
   ]
  },
  {
   "cell_type": "markdown",
   "id": "c477f514",
   "metadata": {},
   "source": [
    "#### Define relevant angles for tomography, add data and interpolate to tomography grid "
   ]
  },
  {
   "cell_type": "code",
   "execution_count": null,
   "id": "062f7984",
   "metadata": {},
   "outputs": [],
   "source": [
    "start_angle = -25  # [deg]\n",
    "end_angle = 25\n",
    "delta_angle = 2.5\n",
    "\n",
    "tomo_angles = np.arange(start_angle,end_angle + delta_angle,delta_angle)*np.pi/180  # [deg]\n",
    "\n",
    "\n",
    "tomo.add_data(tomo_angles)"
   ]
  },
  {
   "cell_type": "markdown",
   "id": "84645308",
   "metadata": {},
   "source": [
    "#### Save calibration data"
   ]
  },
  {
   "cell_type": "code",
   "execution_count": null,
   "id": "9dc5abd1",
   "metadata": {},
   "outputs": [],
   "source": [
    "folder = './data/'\n",
    "filename   = 'calibration.pkl'\n",
    "\n",
    "with open(folder + filename,'wb') as f:  \n",
    "    pickle.dump(tomo.tomo_logamp_map, f)"
   ]
  },
  {
   "cell_type": "markdown",
   "id": "41890bd8",
   "metadata": {},
   "source": [
    "#### Plot calibration data"
   ]
  },
  {
   "cell_type": "code",
   "execution_count": null,
   "id": "57bd704d",
   "metadata": {},
   "outputs": [],
   "source": [
    "fig = plt.figure(figsize=(15,12))\n",
    "\n",
    "# Define extent of imaging domain\n",
    "extent = 100 * np.min(tomo.tomo_x), 100 * np.max(tomo.tomo_x), 100 * np.max(tomo.tomo_z), 100 * np.min(tomo.tomo_z)\n",
    "\n",
    "        \n",
    "for i in range(tomo.tomo_nangles - 1):\n",
    "    \n",
    "    ax = fig.add_subplot(4, 5, i+1)    \n",
    "    \n",
    "    im = ax.imshow(tomo.tomo_logamp_map[:,:,i], aspect = 'equal', extent = extent,\n",
    "                     vmin=-0.2, vmax=0.2, cmap='RdBu')\n",
    "    \n",
    "    \n",
    "    \n",
    "fig.colorbar(im)"
   ]
  },
  {
   "cell_type": "code",
   "execution_count": null,
   "id": "470afa9e",
   "metadata": {},
   "outputs": [],
   "source": []
  }
 ],
 "metadata": {
  "kernelspec": {
   "display_name": "Python 3 (ipykernel)",
   "language": "python",
   "name": "python3"
  },
  "language_info": {
   "codemirror_mode": {
    "name": "ipython",
    "version": 3
   },
   "file_extension": ".py",
   "mimetype": "text/x-python",
   "name": "python",
   "nbconvert_exporter": "python",
   "pygments_lexer": "ipython3",
   "version": "3.7.12"
  }
 },
 "nbformat": 4,
 "nbformat_minor": 5
}
